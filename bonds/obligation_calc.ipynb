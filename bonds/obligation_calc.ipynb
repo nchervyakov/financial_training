{
 "cells": [
  {
   "cell_type": "markdown",
   "metadata": {},
   "source": [
    "# Определение годовых доходностей различных инвестиционных инструментов."
   ]
  },
  {
   "cell_type": "markdown",
   "metadata": {},
   "source": [
    "## Рассчёт доходностей облигаций А, Б и В"
   ]
  },
  {
   "cell_type": "markdown",
   "metadata": {},
   "source": [
    "Находить годовые доходности будем с помощью методов числовой оптимизации. Для этого напишем функцию рассчёта стоимости с указанной доходностью __calc_cost()__, а также функцию, создающую набор функций для вычисления доходности __get_funcs()__.\n",
    "\n",
    "Затем вызываем __minimize()__, передав в неё полученные функции с нужными параметрами, и получаем исходную доходность.\n",
    "\n",
    "Весь код прокомментирован, так что не должно быть затруднений с восприятием. "
   ]
  },
  {
   "cell_type": "code",
   "execution_count": 7,
   "metadata": {},
   "outputs": [
    {
     "name": "stdout",
     "output_type": "stream",
     "text": [
      "Облигация А \n",
      "\n",
      "Купоны:\n",
      "1 2016-04-04\n",
      "2 2017-04-04\n",
      "\n",
      "first_period_start 2015-04-04\n",
      "first_period_end 2016-04-04\n",
      "period_addon 0.08743169398907104\n",
      "900.0000041943443\n",
      "\n",
      "\n",
      "Облигация Б \n",
      "\n",
      "Купоны:\n",
      "1 2016-04-04\n",
      "2 2017-04-04\n",
      "\n",
      "first_period_start 2015-04-04\n",
      "first_period_end 2016-04-04\n",
      "period_addon 0.08743169398907104\n",
      "969.9999985186216\n",
      "\n",
      "\n",
      "Облигация В \n",
      "\n",
      "Купоны:\n",
      "1 2016-04-04\n",
      "2 2016-07-04\n",
      "3 2016-10-04\n",
      "4 2017-01-04\n",
      "5 2017-04-04\n",
      "\n",
      "first_period_start 2016-01-04\n",
      "first_period_end 2016-04-04\n",
      "period_addon 0.3516483516483517\n",
      "989.999999677701\n",
      "\n",
      "\n"
     ]
    }
   ],
   "source": [
    "from datetime import datetime, date, timedelta\n",
    "import pandas as pd\n",
    "from scipy.optimize import minimize\n",
    "from collections import namedtuple\n",
    "import numpy as np\n",
    "\n",
    "period_tuple = namedtuple('period_tuple', ['rev_period', 'from_date', 'to_date'])\n",
    "\n",
    "def print_coupons(coupons):\n",
    "    print('Купоны:')\n",
    "    for i, c in enumerate(reversed(coupons)):\n",
    "        print(i+1, c.to_date)\n",
    "    print()\n",
    "\n",
    "\n",
    "def calc_obligation_data(nominal, coupon, r, start_date, to_date, from_date=None, \n",
    "                         coupons_per_year:int=1, verbose:bool=False):\n",
    "    \"\"\"\n",
    "    Подсчёт всех данных для расчёта стоимости облигации\n",
    "    \n",
    "    Расчёт ведётся на основе дат, чтобы точно учитывать високосные года (и меньшие периоды, включающие 29 февраля)\n",
    "    \"\"\"\n",
    "    \n",
    "    has_coupons = coupons_per_year > 0 and coupon > 0\n",
    "    coupon_months = 12  # Каков период каждого купона в месяцах\n",
    "    coupon_value = 0.0  # Стоимость одного купона\n",
    "    rc = r              # Доходность одного периода (не обязательно годового)\n",
    "    \n",
    "    if has_coupons:\n",
    "        coupon_months = 12 // coupons_per_year\n",
    "        coupon_value = nominal * (coupon / coupons_per_year)\n",
    "        rc = r / coupons_per_year\n",
    "        \n",
    "    else:\n",
    "        coupons_per_year = 1  # нужно для расчёта точного кол-ва лет для дисконтных облигаций\n",
    "    \n",
    "    assert to_date is not None\n",
    "\n",
    "    if from_date is None:\n",
    "        if start_date is not None:\n",
    "            from_date = start_date\n",
    "        else:\n",
    "            from_date = datetime.now().date()\n",
    "            \n",
    "    if start_date is None:\n",
    "        pass\n",
    "    else:\n",
    "        if from_date < start_date:\n",
    "            raise ValueError('Дата отсчёта должна быть не меньше начальной даты размещения облигации (если она известна)')\n",
    "\n",
    "    if from_date > to_date:\n",
    "        raise ValueError('Дата отсчёта должна быть не больше даты погашения облигации.')\n",
    "\n",
    "    coupons = []\n",
    "\n",
    "    coupon_date = to_date\n",
    "    period = 0\n",
    "\n",
    "    # Подсчитываем даты всех купонов на основе календаря\n",
    "    while True:\n",
    "        next_date = (coupon_date - pd.DateOffset(months=coupon_months)).date()\n",
    "        coupons.append(period_tuple(period, next_date, coupon_date))\n",
    "\n",
    "        coupon_date = next_date\n",
    "        period += 1\n",
    "\n",
    "        if coupon_date < from_date or (start_date is not None and coupon_date < start_date):\n",
    "            break        \n",
    "    \n",
    "    #  Полное количество купонов, которое мы получим, уменьшенное на один (из-за возможно долевого первого купона)\n",
    "    periods = period - 1 \n",
    "    period_addon = 1.0   #  доля первого купона, по умолчанию считаем весь первый купон\n",
    "\n",
    "#     if has_coupons > 0:\n",
    "    if verbose:\n",
    "        print_coupons(coupons)\n",
    "        \n",
    "    first_period_end = coupons[-1].to_date\n",
    "    first_period_start = (first_period_end - pd.DateOffset(months=coupon_months)).date()\n",
    "    \n",
    "    share_to_subtract = 0\n",
    "\n",
    "    # Обрабатываем ситуацию, когда получаем только часть первого купона\n",
    "    if first_period_start < from_date:  \n",
    "        if verbose:\n",
    "            print('first_period_start', first_period_start)\n",
    "            print('first_period_end', first_period_end)\n",
    "\n",
    "        total_period_days = (first_period_end - first_period_start).days\n",
    "        \n",
    "        # Дней для вычета для \"чистой\" цены\n",
    "        days_to_subtract = (pd.to_datetime(from_date) - pd.to_datetime(first_period_start)).days\n",
    "        period_addon = (total_period_days - days_to_subtract) / total_period_days\n",
    "        share_to_subtract = 1.0 - period_addon\n",
    "\n",
    "        if verbose:\n",
    "            print('period_addon', period_addon)\n",
    "\n",
    "    # Считаем реальное количество лет, с возможно дробным первым годом\n",
    "    nominal_years = (periods + period_addon) / coupons_per_year\n",
    "\n",
    "    return {\n",
    "        'has_coupons': has_coupons, \n",
    "        'coupons': coupons, \n",
    "        'share_to_subtract': share_to_subtract,\n",
    "        'coupon_value': coupon_value,\n",
    "        'periods': periods,\n",
    "        'period_addon': period_addon,\n",
    "        'nominal_years': nominal_years,\n",
    "        'rc': rc,\n",
    "    }\n",
    "\n",
    "\n",
    "def calc_cost(nominal, coupon, r, start_date, to_date, from_date=None, coupons_per_year:int=1, \n",
    "              is_clean_price:bool=True, verbose=False):\n",
    "    \"\"\"\n",
    "    Считаем стоимость купона.\n",
    "        \n",
    "    Для дисконтируемого купона по умолчанию тоже считаем ежегодняй купон (для определения точной доли первого купона)\n",
    "    \n",
    "    :param bool is_clean_price: Чистую или грязную цену считать при дробном первом периоде.\n",
    "    \"\"\"\n",
    "    \n",
    "    d = calc_obligation_data(nominal, coupon, r, start_date, to_date, from_date, coupons_per_year, verbose=verbose)\n",
    "\n",
    "    res = 0  #  Конечная стоимость облигации\n",
    "    \n",
    "    if d['has_coupons']:\n",
    "        for rev_period, cd_start, cd_end in d['coupons']:\n",
    "            period = d['periods'] - rev_period\n",
    "            res += d['coupon_value'] / ((1.0 + d['rc']) ** (period + d['period_addon']))\n",
    "            \n",
    "    if is_clean_price and d['share_to_subtract'] > 0:  #  вычитаем долю, которую нужно выплатить продавцу за предстоящий купон.\n",
    "        res -= d['share_to_subtract'] * d['coupon_value'] / ((1.0 + d['rc']) ** d['period_addon'])\n",
    "\n",
    "    # Прибавляем дисконтированный номинал\n",
    "    res += nominal / ((1.0 + r) ** d['nominal_years'])\n",
    "    return res\n",
    "\n",
    "\n",
    "def get_funcs(nominal=1000, price=1200, coupon=0.1, start_date=None, to_date=None, from_date=None, \n",
    "              coupons_per_year:int=1, is_clean_price:bool=True, verbose:bool=False):\n",
    "    \n",
    "    assert to_date is not None\n",
    "    \n",
    "    # разница между рассчётной стоимостью и текущей ценой\n",
    "    def z(r):\n",
    "        return calc_cost(nominal, coupon, r, start_date, to_date, from_date=from_date, \n",
    "                         coupons_per_year=coupons_per_year, is_clean_price=is_clean_price, verbose=verbose) - price\n",
    "    \n",
    "    # Квадратичная стоимостная функция для нахождения процентной ставки\n",
    "    def f(r):\n",
    "        return z(r) ** 2\n",
    "        \n",
    "    # Производная стоимостной функции\n",
    "    def der(r):\n",
    "        res0 = 2.0 * z(r)\n",
    "        \n",
    "        d = calc_obligation_data(nominal, coupon, r, start_date, to_date, from_date, coupons_per_year, verbose=verbose)\n",
    "\n",
    "        res = 0  #  Конечная стоимость облигации\n",
    "\n",
    "        if d['has_coupons']:\n",
    "            for rev_period, cd_start, cd_end in d['coupons']:\n",
    "                period = d['periods'] - rev_period\n",
    "                i = period + d['period_addon']\n",
    "                res += (-i * d['coupon_value']) / ((1.0 + d['rc']) ** (i + 1))\n",
    "\n",
    "        if is_clean_price and d['share_to_subtract'] > 0:  #  вычитаем долю, которую нужно выплатить продавцу за предстоящий купон.\n",
    "            res -= -d['period_addon'] * d['share_to_subtract'] * d['coupon_value'] / ((1.0 + d['rc']) ** (d['period_addon'] + 1))\n",
    "\n",
    "        # Прибавляем дисконтированный номинал\n",
    "        res += -d['nominal_years'] * nominal / ((1.0 + r) ** (d['nominal_years'] + 1))\n",
    "\n",
    "        return res * res0\n",
    "        \n",
    "        \n",
    "    return z, f, der\n",
    "\n",
    "\n",
    "start_date = None\n",
    "from_date = date(2016, 3, 3)\n",
    "to_date = date(2017, 4, 4)\n",
    "\n",
    "print('Облигация А \\n') # price = 900\n",
    "print(calc_cost(1000, 0.0, 0.10173842, start_date, to_date=to_date, from_date=from_date, coupons_per_year=0, verbose=True))\n",
    "print('\\n')\n",
    "\n",
    "print('Облигация Б \\n') # price = 970 чистая\n",
    "print(calc_cost(1000, 0.09, 0.12150826, start_date, to_date=to_date, from_date=from_date, coupons_per_year=1, verbose=True))\n",
    "print('\\n')\n",
    "\n",
    "print('Облигация В \\n') # price = 990 грязная\n",
    "print(calc_cost(1000, 0.08, 0.10630535, start_date, to_date=to_date, from_date=from_date, coupons_per_year=4, \n",
    "                is_clean_price=False, verbose=True))\n",
    "print('\\n')"
   ]
  },
  {
   "cell_type": "code",
   "execution_count": 8,
   "metadata": {
    "scrolled": false
   },
   "outputs": [
    {
     "name": "stdout",
     "output_type": "stream",
     "text": [
      "Optimization terminated successfully.\n",
      "         Current function value: 0.000000\n",
      "         Iterations: 8\n",
      "         Function evaluations: 10\n",
      "         Gradient evaluations: 10\n"
     ]
    },
    {
     "data": {
      "text/plain": [
       "0.10173842472169684"
      ]
     },
     "execution_count": 8,
     "metadata": {},
     "output_type": "execute_result"
    }
   ],
   "source": [
    "z, f, der = get_funcs(1000, 900, 0.0, start_date, to_date, from_date, 0)\n",
    "\n",
    "minimize(f, 0.0, method='BFGS', jac=der, tol=0.000000001, options={'disp': True}).x[0]"
   ]
  },
  {
   "cell_type": "code",
   "execution_count": 3,
   "metadata": {},
   "outputs": [
    {
     "name": "stdout",
     "output_type": "stream",
     "text": [
      "Optimization terminated successfully.\n",
      "         Current function value: 0.000000\n",
      "         Iterations: 8\n",
      "         Function evaluations: 10\n",
      "         Gradient evaluations: 10\n"
     ]
    },
    {
     "data": {
      "text/plain": [
       "0.121508258413229"
      ]
     },
     "execution_count": 3,
     "metadata": {},
     "output_type": "execute_result"
    }
   ],
   "source": [
    "z, f, der = get_funcs(1000, 970, 0.09, start_date, to_date, from_date, 1, is_clean_price=True)\n",
    "\n",
    "minimize(f, 0.0, method='BFGS', jac=der, tol=0.000000001, options={'disp': True}).x[0]"
   ]
  },
  {
   "cell_type": "code",
   "execution_count": 4,
   "metadata": {},
   "outputs": [
    {
     "name": "stdout",
     "output_type": "stream",
     "text": [
      "Optimization terminated successfully.\n",
      "         Current function value: 0.000000\n",
      "         Iterations: 8\n",
      "         Function evaluations: 10\n",
      "         Gradient evaluations: 10\n"
     ]
    },
    {
     "data": {
      "text/plain": [
       "0.10630534965481568"
      ]
     },
     "execution_count": 4,
     "metadata": {},
     "output_type": "execute_result"
    }
   ],
   "source": [
    "z, f, der = get_funcs(1000, 990, 0.08, start_date, to_date, from_date, 4, is_clean_price=False)\n",
    "\n",
    "minimize(f, 0.0, method='BFGS', jac=der, tol=0.000000001, options={'disp': True}).x[0]"
   ]
  },
  {
   "cell_type": "markdown",
   "metadata": {},
   "source": [
    "## Вклад А"
   ]
  },
  {
   "cell_type": "markdown",
   "metadata": {},
   "source": [
    "Процентную ставку рассчитываем простым перемножением ставок и их вероятностей:"
   ]
  },
  {
   "cell_type": "code",
   "execution_count": 5,
   "metadata": {},
   "outputs": [
    {
     "name": "stdout",
     "output_type": "stream",
     "text": [
      "Доходность: 9.0%\n"
     ]
    }
   ],
   "source": [
    "r = np.round((0.15 * 0.15 + 0.5 * 0.1 + 0.35 * 0.05) * 100, 3)\n",
    "print(\"Доходность: {}%\".format(r))"
   ]
  },
  {
   "cell_type": "markdown",
   "metadata": {},
   "source": [
    "## Вклад Б"
   ]
  },
  {
   "cell_type": "markdown",
   "metadata": {},
   "source": [
    "В данном случае мы также можем обойтись простыми рассчётами (и не будем учитывать високосные года)."
   ]
  },
  {
   "cell_type": "code",
   "execution_count": 6,
   "metadata": {},
   "outputs": [
    {
     "name": "stdout",
     "output_type": "stream",
     "text": [
      "Доходность: 9.964526247113369%\n"
     ]
    }
   ],
   "source": [
    "daily_r = 0.095 / 365\n",
    "r = ((1 + daily_r) ** 365 - 1) * 100\n",
    "print(\"Доходность: {}%\".format(r))"
   ]
  },
  {
   "cell_type": "markdown",
   "metadata": {},
   "source": [
    "## Итог"
   ]
  },
  {
   "cell_type": "markdown",
   "metadata": {},
   "source": [
    "Мы определили доходность всех инструментов:\n",
    "\n",
    "- Облигация А: 10.17%\n",
    "- Облигация Б: 12.15%\n",
    "- Облигация В: 10.63%\n",
    "- Вклад А: 9.0%\n",
    "- Вклад Б: 9.96%\n",
    "\n",
    "Наилучшим выбором в данной ситуации является **облигация Б** c доходностью **12.15%**."
   ]
  },
  {
   "cell_type": "code",
   "execution_count": null,
   "metadata": {},
   "outputs": [],
   "source": []
  }
 ],
 "metadata": {
  "kernelspec": {
   "display_name": "Python 3",
   "language": "python",
   "name": "python3"
  },
  "language_info": {
   "codemirror_mode": {
    "name": "ipython",
    "version": 3
   },
   "file_extension": ".py",
   "mimetype": "text/x-python",
   "name": "python",
   "nbconvert_exporter": "python",
   "pygments_lexer": "ipython3",
   "version": "3.6.6"
  }
 },
 "nbformat": 4,
 "nbformat_minor": 2
}

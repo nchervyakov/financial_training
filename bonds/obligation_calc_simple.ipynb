{
 "cells": [
  {
   "cell_type": "code",
   "execution_count": 1,
   "metadata": {},
   "outputs": [
    {
     "data": {
      "text/plain": [
       "939.1470176598089"
      ]
     },
     "execution_count": 1,
     "metadata": {},
     "output_type": "execute_result"
    }
   ],
   "source": [
    "from scipy.optimize import minimize\n",
    "def calc_cost(nominal, coupon, years, r, coupons_per_year=1):\n",
    "        res = 0\n",
    "        c = nominal * coupon / coupons_per_year\n",
    "        rc = r / coupons_per_year\n",
    "        \n",
    "        periods = years * coupons_per_year\n",
    "        \n",
    "        for i in range(1, periods+1):\n",
    "            res += c / ((1.0 + rc) ** i)\n",
    "            \n",
    "        res += nominal / ((1.0 + r) ** years)\n",
    "        return res\n",
    "\n",
    "\n",
    "def get_funcs(nominal=1000, price=1200, coupon=0.1, years=5, coupons_per_year=1):\n",
    "    def z(r):\n",
    "        return calc_cost(nominal, coupon, years, r, coupons_per_year=coupons_per_year) - price\n",
    "    \n",
    "    \n",
    "    def f(r):\n",
    "        return z(r) ** 2\n",
    "        \n",
    "        \n",
    "    def der(r):\n",
    "        res0 = 2.0 * z(r)\n",
    "        res = 0\n",
    "        c = nominal * coupon / coupons_per_year\n",
    "        rc = r / coupons_per_year\n",
    "        periods = years * coupons_per_year\n",
    "        \n",
    "        for i in range(1, periods+1):\n",
    "            res += (-i * c) / ((1.0 + rc) ** (i + 1))\n",
    "            \n",
    "        res += -years * nominal / (1.0 + r) ** (years + 1)\n",
    "        return res * res0\n",
    "        \n",
    "        \n",
    "    return z, f, der\n",
    "\n",
    "\n",
    "z, f, der = get_funcs()\n",
    "\n",
    "# minimize(f, 0.0, method='BFGS', jac=der, tol=0.000000001, options={'disp': True})\n",
    "\n",
    "calc_cost(1000, 0.12, 3, 0.15, 2)"
   ]
  },
  {
   "cell_type": "code",
   "execution_count": null,
   "metadata": {},
   "outputs": [],
   "source": []
  }
 ],
 "metadata": {
  "kernelspec": {
   "display_name": "Python 3",
   "language": "python",
   "name": "python3"
  },
  "language_info": {
   "codemirror_mode": {
    "name": "ipython",
    "version": 3
   },
   "file_extension": ".py",
   "mimetype": "text/x-python",
   "name": "python",
   "nbconvert_exporter": "python",
   "pygments_lexer": "ipython3",
   "version": "3.6.6"
  }
 },
 "nbformat": 4,
 "nbformat_minor": 2
}
